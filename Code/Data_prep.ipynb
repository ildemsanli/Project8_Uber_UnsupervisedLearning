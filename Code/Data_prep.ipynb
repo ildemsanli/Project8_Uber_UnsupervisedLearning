{
 "cells": [
  {
   "cell_type": "code",
   "execution_count": 2,
   "id": "c57fe7b1",
   "metadata": {},
   "outputs": [],
   "source": [
    "import pandas as pd \n",
    "import numpy as np\n",
    "from sklearn.preprocessing import LabelEncoder\n",
    "import seaborn as sns\n",
    "import matplotlib.pyplot as plt"
   ]
  },
  {
   "cell_type": "code",
   "execution_count": 3,
   "id": "9fd2dc18",
   "metadata": {},
   "outputs": [],
   "source": [
    "# Import the april dataset\n",
    "april=pd.read_csv('/Users/ildem/Desktop/Project_8/uber.csv')"
   ]
  },
  {
   "cell_type": "code",
   "execution_count": 4,
   "id": "9587284e",
   "metadata": {},
   "outputs": [
    {
     "data": {
      "text/html": [
       "<div>\n",
       "<style scoped>\n",
       "    .dataframe tbody tr th:only-of-type {\n",
       "        vertical-align: middle;\n",
       "    }\n",
       "\n",
       "    .dataframe tbody tr th {\n",
       "        vertical-align: top;\n",
       "    }\n",
       "\n",
       "    .dataframe thead th {\n",
       "        text-align: right;\n",
       "    }\n",
       "</style>\n",
       "<table border=\"1\" class=\"dataframe\">\n",
       "  <thead>\n",
       "    <tr style=\"text-align: right;\">\n",
       "      <th></th>\n",
       "      <th>Date/Time</th>\n",
       "      <th>Lat</th>\n",
       "      <th>Lon</th>\n",
       "      <th>Base</th>\n",
       "    </tr>\n",
       "  </thead>\n",
       "  <tbody>\n",
       "    <tr>\n",
       "      <th>0</th>\n",
       "      <td>4/1/2014 0:11:00</td>\n",
       "      <td>40.7690</td>\n",
       "      <td>-73.9549</td>\n",
       "      <td>B02512</td>\n",
       "    </tr>\n",
       "    <tr>\n",
       "      <th>1</th>\n",
       "      <td>4/1/2014 0:17:00</td>\n",
       "      <td>40.7267</td>\n",
       "      <td>-74.0345</td>\n",
       "      <td>B02512</td>\n",
       "    </tr>\n",
       "    <tr>\n",
       "      <th>2</th>\n",
       "      <td>4/1/2014 0:21:00</td>\n",
       "      <td>40.7316</td>\n",
       "      <td>-73.9873</td>\n",
       "      <td>B02512</td>\n",
       "    </tr>\n",
       "    <tr>\n",
       "      <th>3</th>\n",
       "      <td>4/1/2014 0:28:00</td>\n",
       "      <td>40.7588</td>\n",
       "      <td>-73.9776</td>\n",
       "      <td>B02512</td>\n",
       "    </tr>\n",
       "    <tr>\n",
       "      <th>4</th>\n",
       "      <td>4/1/2014 0:33:00</td>\n",
       "      <td>40.7594</td>\n",
       "      <td>-73.9722</td>\n",
       "      <td>B02512</td>\n",
       "    </tr>\n",
       "  </tbody>\n",
       "</table>\n",
       "</div>"
      ],
      "text/plain": [
       "          Date/Time      Lat      Lon    Base\n",
       "0  4/1/2014 0:11:00  40.7690 -73.9549  B02512\n",
       "1  4/1/2014 0:17:00  40.7267 -74.0345  B02512\n",
       "2  4/1/2014 0:21:00  40.7316 -73.9873  B02512\n",
       "3  4/1/2014 0:28:00  40.7588 -73.9776  B02512\n",
       "4  4/1/2014 0:33:00  40.7594 -73.9722  B02512"
      ]
     },
     "execution_count": 4,
     "metadata": {},
     "output_type": "execute_result"
    }
   ],
   "source": [
    "# Explore the dataset\n",
    "april.head()"
   ]
  },
  {
   "cell_type": "code",
   "execution_count": 5,
   "id": "65feb3af",
   "metadata": {},
   "outputs": [
    {
     "data": {
      "text/plain": [
       "Date/Time     object\n",
       "Lat          float64\n",
       "Lon          float64\n",
       "Base          object\n",
       "dtype: object"
      ]
     },
     "execution_count": 5,
     "metadata": {},
     "output_type": "execute_result"
    }
   ],
   "source": [
    "april.dtypes"
   ]
  },
  {
   "cell_type": "code",
   "execution_count": 6,
   "id": "22ee93f6",
   "metadata": {},
   "outputs": [
    {
     "data": {
      "text/plain": [
       "B02682    227808\n",
       "B02598    183263\n",
       "B02617    108001\n",
       "B02512     35536\n",
       "B02764      9908\n",
       "Name: Base, dtype: int64"
      ]
     },
     "execution_count": 6,
     "metadata": {},
     "output_type": "execute_result"
    }
   ],
   "source": [
    "april['Base'].value_counts()"
   ]
  },
  {
   "cell_type": "code",
   "execution_count": 7,
   "id": "3783f55a",
   "metadata": {},
   "outputs": [],
   "source": [
    "# Change the type of data/time column to datetime from object\n",
    "april['datetime']=pd.to_datetime(april['Date/Time'])"
   ]
  },
  {
   "cell_type": "code",
   "execution_count": 8,
   "id": "2d9b06b1",
   "metadata": {},
   "outputs": [],
   "source": [
    "# Create weekday and hour columns and drop datetime\n",
    "\n",
    "april['hour']=april.datetime.dt.hour\n",
    "april['weekday']=april.datetime.dt.day_name()\n",
    "\n",
    "april.drop(['Date/Time', 'datetime'], axis=1, inplace=True)"
   ]
  },
  {
   "cell_type": "code",
   "execution_count": 9,
   "id": "5a78c543",
   "metadata": {},
   "outputs": [
    {
     "data": {
      "text/html": [
       "<div>\n",
       "<style scoped>\n",
       "    .dataframe tbody tr th:only-of-type {\n",
       "        vertical-align: middle;\n",
       "    }\n",
       "\n",
       "    .dataframe tbody tr th {\n",
       "        vertical-align: top;\n",
       "    }\n",
       "\n",
       "    .dataframe thead th {\n",
       "        text-align: right;\n",
       "    }\n",
       "</style>\n",
       "<table border=\"1\" class=\"dataframe\">\n",
       "  <thead>\n",
       "    <tr style=\"text-align: right;\">\n",
       "      <th></th>\n",
       "      <th>Lat</th>\n",
       "      <th>Lon</th>\n",
       "      <th>Base</th>\n",
       "      <th>hour</th>\n",
       "      <th>weekday</th>\n",
       "    </tr>\n",
       "  </thead>\n",
       "  <tbody>\n",
       "    <tr>\n",
       "      <th>0</th>\n",
       "      <td>40.7690</td>\n",
       "      <td>-73.9549</td>\n",
       "      <td>B02512</td>\n",
       "      <td>0</td>\n",
       "      <td>Tuesday</td>\n",
       "    </tr>\n",
       "    <tr>\n",
       "      <th>1</th>\n",
       "      <td>40.7267</td>\n",
       "      <td>-74.0345</td>\n",
       "      <td>B02512</td>\n",
       "      <td>0</td>\n",
       "      <td>Tuesday</td>\n",
       "    </tr>\n",
       "    <tr>\n",
       "      <th>2</th>\n",
       "      <td>40.7316</td>\n",
       "      <td>-73.9873</td>\n",
       "      <td>B02512</td>\n",
       "      <td>0</td>\n",
       "      <td>Tuesday</td>\n",
       "    </tr>\n",
       "    <tr>\n",
       "      <th>3</th>\n",
       "      <td>40.7588</td>\n",
       "      <td>-73.9776</td>\n",
       "      <td>B02512</td>\n",
       "      <td>0</td>\n",
       "      <td>Tuesday</td>\n",
       "    </tr>\n",
       "    <tr>\n",
       "      <th>4</th>\n",
       "      <td>40.7594</td>\n",
       "      <td>-73.9722</td>\n",
       "      <td>B02512</td>\n",
       "      <td>0</td>\n",
       "      <td>Tuesday</td>\n",
       "    </tr>\n",
       "    <tr>\n",
       "      <th>...</th>\n",
       "      <td>...</td>\n",
       "      <td>...</td>\n",
       "      <td>...</td>\n",
       "      <td>...</td>\n",
       "      <td>...</td>\n",
       "    </tr>\n",
       "    <tr>\n",
       "      <th>564511</th>\n",
       "      <td>40.7640</td>\n",
       "      <td>-73.9744</td>\n",
       "      <td>B02764</td>\n",
       "      <td>23</td>\n",
       "      <td>Wednesday</td>\n",
       "    </tr>\n",
       "    <tr>\n",
       "      <th>564512</th>\n",
       "      <td>40.7629</td>\n",
       "      <td>-73.9672</td>\n",
       "      <td>B02764</td>\n",
       "      <td>23</td>\n",
       "      <td>Wednesday</td>\n",
       "    </tr>\n",
       "    <tr>\n",
       "      <th>564513</th>\n",
       "      <td>40.7443</td>\n",
       "      <td>-73.9889</td>\n",
       "      <td>B02764</td>\n",
       "      <td>23</td>\n",
       "      <td>Wednesday</td>\n",
       "    </tr>\n",
       "    <tr>\n",
       "      <th>564514</th>\n",
       "      <td>40.6756</td>\n",
       "      <td>-73.9405</td>\n",
       "      <td>B02764</td>\n",
       "      <td>23</td>\n",
       "      <td>Wednesday</td>\n",
       "    </tr>\n",
       "    <tr>\n",
       "      <th>564515</th>\n",
       "      <td>40.6880</td>\n",
       "      <td>-73.9608</td>\n",
       "      <td>B02764</td>\n",
       "      <td>23</td>\n",
       "      <td>Wednesday</td>\n",
       "    </tr>\n",
       "  </tbody>\n",
       "</table>\n",
       "<p>564516 rows × 5 columns</p>\n",
       "</div>"
      ],
      "text/plain": [
       "            Lat      Lon    Base  hour    weekday\n",
       "0       40.7690 -73.9549  B02512     0    Tuesday\n",
       "1       40.7267 -74.0345  B02512     0    Tuesday\n",
       "2       40.7316 -73.9873  B02512     0    Tuesday\n",
       "3       40.7588 -73.9776  B02512     0    Tuesday\n",
       "4       40.7594 -73.9722  B02512     0    Tuesday\n",
       "...         ...      ...     ...   ...        ...\n",
       "564511  40.7640 -73.9744  B02764    23  Wednesday\n",
       "564512  40.7629 -73.9672  B02764    23  Wednesday\n",
       "564513  40.7443 -73.9889  B02764    23  Wednesday\n",
       "564514  40.6756 -73.9405  B02764    23  Wednesday\n",
       "564515  40.6880 -73.9608  B02764    23  Wednesday\n",
       "\n",
       "[564516 rows x 5 columns]"
      ]
     },
     "execution_count": 9,
     "metadata": {},
     "output_type": "execute_result"
    }
   ],
   "source": [
    "april"
   ]
  },
  {
   "cell_type": "code",
   "execution_count": 10,
   "id": "37f8f9e8",
   "metadata": {},
   "outputs": [
    {
     "data": {
      "text/plain": [
       "Wednesday    108631\n",
       "Tuesday       91185\n",
       "Friday        90303\n",
       "Thursday      85067\n",
       "Saturday      77218\n",
       "Monday        60861\n",
       "Sunday        51251\n",
       "Name: weekday, dtype: int64"
      ]
     },
     "execution_count": 10,
     "metadata": {},
     "output_type": "execute_result"
    }
   ],
   "source": [
    "april.weekday.value_counts()"
   ]
  },
  {
   "cell_type": "code",
   "execution_count": 26,
   "id": "d21c2eaf",
   "metadata": {},
   "outputs": [],
   "source": [
    "Sat=april[['hour']][april['weekday']=='Saturday']"
   ]
  },
  {
   "cell_type": "code",
   "execution_count": 27,
   "id": "b490aed7",
   "metadata": {},
   "outputs": [],
   "source": [
    "Sun=april[['hour']][april['weekday']=='Sunday']"
   ]
  },
  {
   "cell_type": "code",
   "execution_count": 28,
   "id": "df939f12",
   "metadata": {},
   "outputs": [],
   "source": [
    "weekend=pd.merge(Sat, Sun)"
   ]
  },
  {
   "cell_type": "code",
   "execution_count": 22,
   "id": "8f0f490e",
   "metadata": {},
   "outputs": [
    {
     "data": {
      "text/plain": [
       "Text(0.5, 1.0, 'Saturday')"
      ]
     },
     "execution_count": 22,
     "metadata": {},
     "output_type": "execute_result"
    },
    {
     "data": {
      "image/png": "[encoded data removed]",
      "text/plain": [
       "<Figure size 576x576 with 1 Axes>"
      ]
     },
     "metadata": {
      "needs_background": "light"
     },
     "output_type": "display_data"
    }
   ],
   "source": [
    "plt.figure(figsize=(8, 8))\n",
    "sns.histplot(Sat.hour)\n",
    "plt.title('Saturday')"
   ]
  },
  {
   "cell_type": "code",
   "execution_count": 53,
   "id": "86610ae5",
   "metadata": {},
   "outputs": [
    {
     "data": {
      "text/plain": [
       "Text(0.5, 1.0, 'Sunday')"
      ]
     },
     "execution_count": 53,
     "metadata": {},
     "output_type": "execute_result"
    },
    {
     "data": {
      "image/png": "[encoded data removed]",
      "text/plain": [
       "<Figure size 576x576 with 1 Axes>"
      ]
     },
     "metadata": {
      "needs_background": "light"
     },
     "output_type": "display_data"
    }
   ],
   "source": [
    "plt.figure(figsize=(8, 8))\n",
    "sns.histplot(Sat.hour)\n",
    "plt.title('Sunday')"
   ]
  },
  {
   "cell_type": "code",
   "execution_count": 31,
   "id": "278a9670",
   "metadata": {},
   "outputs": [],
   "source": [
    "april['time_of_day']=april['hour']"
   ]
  },
  {
   "cell_type": "code",
   "execution_count": 32,
   "id": "30d3e6bb",
   "metadata": {},
   "outputs": [
    {
     "data": {
      "text/html": [
       "<div>\n",
       "<style scoped>\n",
       "    .dataframe tbody tr th:only-of-type {\n",
       "        vertical-align: middle;\n",
       "    }\n",
       "\n",
       "    .dataframe tbody tr th {\n",
       "        vertical-align: top;\n",
       "    }\n",
       "\n",
       "    .dataframe thead th {\n",
       "        text-align: right;\n",
       "    }\n",
       "</style>\n",
       "<table border=\"1\" class=\"dataframe\">\n",
       "  <thead>\n",
       "    <tr style=\"text-align: right;\">\n",
       "      <th></th>\n",
       "      <th>Lat</th>\n",
       "      <th>Lon</th>\n",
       "      <th>Base</th>\n",
       "      <th>hour</th>\n",
       "      <th>weekday</th>\n",
       "      <th>time_of_day</th>\n",
       "    </tr>\n",
       "  </thead>\n",
       "  <tbody>\n",
       "    <tr>\n",
       "      <th>0</th>\n",
       "      <td>40.7690</td>\n",
       "      <td>-73.9549</td>\n",
       "      <td>B02512</td>\n",
       "      <td>0</td>\n",
       "      <td>Tuesday</td>\n",
       "      <td>0</td>\n",
       "    </tr>\n",
       "    <tr>\n",
       "      <th>1</th>\n",
       "      <td>40.7267</td>\n",
       "      <td>-74.0345</td>\n",
       "      <td>B02512</td>\n",
       "      <td>0</td>\n",
       "      <td>Tuesday</td>\n",
       "      <td>0</td>\n",
       "    </tr>\n",
       "    <tr>\n",
       "      <th>2</th>\n",
       "      <td>40.7316</td>\n",
       "      <td>-73.9873</td>\n",
       "      <td>B02512</td>\n",
       "      <td>0</td>\n",
       "      <td>Tuesday</td>\n",
       "      <td>0</td>\n",
       "    </tr>\n",
       "    <tr>\n",
       "      <th>3</th>\n",
       "      <td>40.7588</td>\n",
       "      <td>-73.9776</td>\n",
       "      <td>B02512</td>\n",
       "      <td>0</td>\n",
       "      <td>Tuesday</td>\n",
       "      <td>0</td>\n",
       "    </tr>\n",
       "    <tr>\n",
       "      <th>4</th>\n",
       "      <td>40.7594</td>\n",
       "      <td>-73.9722</td>\n",
       "      <td>B02512</td>\n",
       "      <td>0</td>\n",
       "      <td>Tuesday</td>\n",
       "      <td>0</td>\n",
       "    </tr>\n",
       "  </tbody>\n",
       "</table>\n",
       "</div>"
      ],
      "text/plain": [
       "       Lat      Lon    Base  hour  weekday  time_of_day\n",
       "0  40.7690 -73.9549  B02512     0  Tuesday            0\n",
       "1  40.7267 -74.0345  B02512     0  Tuesday            0\n",
       "2  40.7316 -73.9873  B02512     0  Tuesday            0\n",
       "3  40.7588 -73.9776  B02512     0  Tuesday            0\n",
       "4  40.7594 -73.9722  B02512     0  Tuesday            0"
      ]
     },
     "execution_count": 32,
     "metadata": {},
     "output_type": "execute_result"
    }
   ],
   "source": [
    "april.head()"
   ]
  },
  {
   "cell_type": "code",
   "execution_count": 33,
   "id": "49696da2",
   "metadata": {
    "scrolled": false
   },
   "outputs": [],
   "source": [
    "april['time_of_day']=np.where((april.hour>=0) & (april.hour<6), \"night\", april['time_of_day'])"
   ]
  },
  {
   "cell_type": "code",
   "execution_count": 34,
   "id": "f07552ff",
   "metadata": {},
   "outputs": [],
   "source": [
    "april['time_of_day']=np.where((april.hour>=6) & (april.hour<12), \"morning\", april['time_of_day'])"
   ]
  },
  {
   "cell_type": "code",
   "execution_count": 35,
   "id": "8577b6de",
   "metadata": {},
   "outputs": [],
   "source": [
    "april['time_of_day']=np.where((april.hour>=12) & (april.hour<18), \"afternoon\", april['time_of_day'])"
   ]
  },
  {
   "cell_type": "code",
   "execution_count": 36,
   "id": "9b04bf72",
   "metadata": {},
   "outputs": [],
   "source": [
    "april['time_of_day']=np.where((april.hour>=18), \"evening\", april['time_of_day'])"
   ]
  },
  {
   "cell_type": "code",
   "execution_count": 37,
   "id": "0ca8f87e",
   "metadata": {},
   "outputs": [
    {
     "data": {
      "text/plain": [
       "evening      206428\n",
       "afternoon    192020\n",
       "morning      120843\n",
       "night         45225\n",
       "Name: time_of_day, dtype: int64"
      ]
     },
     "execution_count": 37,
     "metadata": {},
     "output_type": "execute_result"
    }
   ],
   "source": [
    "april['time_of_day'].value_counts()"
   ]
  },
  {
   "cell_type": "code",
   "execution_count": 44,
   "id": "7ef97910",
   "metadata": {},
   "outputs": [],
   "source": [
    "april['time_of_day'] = pd.Categorical(april['time_of_day'], ['morning','afternoon','evening','night'])"
   ]
  },
  {
   "cell_type": "code",
   "execution_count": 45,
   "id": "853a7f4a",
   "metadata": {},
   "outputs": [],
   "source": [
    "april['weekday']=pd.Categorical(april['weekday'], ['Monday','Tuesday','Wednesday','Thursday', 'Friday', 'Saturday',\n",
    "                                                  'Sunday'])"
   ]
  },
  {
   "cell_type": "code",
   "execution_count": 58,
   "id": "0160210e",
   "metadata": {},
   "outputs": [
    {
     "data": {
      "image/png": "[encoded data removed]",
      "text/plain": [
       "<Figure size 576x576 with 1 Axes>"
      ]
     },
     "metadata": {
      "needs_background": "light"
     },
     "output_type": "display_data"
    }
   ],
   "source": [
    "plt.figure(figsize=(8, 8))\n",
    "sns.histplot(data=april, x='hour', palette='viridis')\n",
    "plt.title('Distribution of rides by hour')\n",
    "plt.savefig('distribution_hour')"
   ]
  },
  {
   "cell_type": "code",
   "execution_count": 57,
   "id": "09aa0b41",
   "metadata": {},
   "outputs": [
    {
     "data": {
      "image/png": "[encoded data removed]",
      "text/plain": [
       "<Figure size 576x576 with 1 Axes>"
      ]
     },
     "metadata": {
      "needs_background": "light"
     },
     "output_type": "display_data"
    }
   ],
   "source": [
    "plt.figure(figsize=(8, 8))\n",
    "sns.histplot(data=april, x='weekday', palette='viridis', shrink=0.6)\n",
    "plt.title('Distribution of rides by day')\n",
    "plt.savefig('distribution_day')"
   ]
  },
  {
   "cell_type": "code",
   "execution_count": 56,
   "id": "11f78abd",
   "metadata": {
    "scrolled": false
   },
   "outputs": [
    {
     "data": {
      "image/png": "[encoded data removed]",
      "text/plain": [
       "<Figure size 576x576 with 1 Axes>"
      ]
     },
     "metadata": {
      "needs_background": "light"
     },
     "output_type": "display_data"
    }
   ],
   "source": [
    "plt.figure(figsize=(8, 8))\n",
    "sns.histplot(data=april, x='weekday', hue='time_of_day', multiple='dodge', shrink=0.8, palette='viridis')\n",
    "plt.title('Distribution of rides by day and time')\n",
    "plt.savefig('distribution_day_time')"
   ]
  },
  {
   "cell_type": "code",
   "execution_count": 55,
   "id": "1d98593a",
   "metadata": {},
   "outputs": [
    {
     "data": {
      "image/png": "[encoded data removed]",
      "text/plain": [
       "<Figure size 576x576 with 1 Axes>"
      ]
     },
     "metadata": {
      "needs_background": "light"
     },
     "output_type": "display_data"
    }
   ],
   "source": [
    "plt.figure(figsize=(8, 8))\n",
    "sns.histplot(data=april, x='weekday', hue='Base', multiple='dodge', shrink=0.8, palette='viridis')\n",
    "plt.title('Distribution of rides by day and base')\n",
    "plt.savefig('distribution_day_base')"
   ]
  },
  {
   "cell_type": "code",
   "execution_count": null,
   "id": "6c2ea6bc",
   "metadata": {},
   "outputs": [],
   "source": [
    "# Encode the Base and weekday columns\n",
    "#april['Base']=LabelEncoder().fit_transform(april['Base'])\n",
    "\n",
    "#april['weekday']=LabelEncoder().fit_transform(april['weekday'])"
   ]
  },
  {
   "cell_type": "code",
   "execution_count": null,
   "id": "a6560eb2",
   "metadata": {},
   "outputs": [],
   "source": [
    "# Sampling \n",
    "#april_s10=april.sample(frac=0.10)\n",
    "\n",
    "#april_s10.to_csv('/Users/ildem/Desktop/Project_8/april_10.csv')"
   ]
  }
 ],
 "metadata": {
  "kernelspec": {
   "display_name": "Python 3 (ipykernel)",
   "language": "python",
   "name": "python3"
  },
  "language_info": {
   "codemirror_mode": {
    "name": "ipython",
    "version": 3
   },
   "file_extension": ".py",
   "mimetype": "text/x-python",
   "name": "python",
   "nbconvert_exporter": "python",
   "pygments_lexer": "ipython3",
   "version": "3.9.7"
  }
 },
 "nbformat": 4,
 "nbformat_minor": 5
}
